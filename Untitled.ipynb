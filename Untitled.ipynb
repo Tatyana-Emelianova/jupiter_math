{
 "cells": [
  {
   "cell_type": "code",
   "execution_count": null,
   "id": "3e0a6f8a",
   "metadata": {},
   "outputs": [],
   "source": [
    "f(x) = 0.6x^3+5.5x^2+10x -5"
   ]
  },
  {
   "cell_type": "code",
   "execution_count": 11,
   "id": "9cec04aa",
   "metadata": {
    "scrolled": true
   },
   "outputs": [
    {
     "name": "stdout",
     "output_type": "stream",
     "text": [
      "Requirement already satisfied: matplotlib in c:\\programdata\\anaconda3\\lib\\site-packages (3.5.2)\n",
      "Requirement already satisfied: python-dateutil>=2.7 in c:\\programdata\\anaconda3\\lib\\site-packages (from matplotlib) (2.8.2)\n",
      "Requirement already satisfied: kiwisolver>=1.0.1 in c:\\programdata\\anaconda3\\lib\\site-packages (from matplotlib) (1.4.2)\n",
      "Requirement already satisfied: pyparsing>=2.2.1 in c:\\programdata\\anaconda3\\lib\\site-packages (from matplotlib) (3.0.9)\n",
      "Requirement already satisfied: cycler>=0.10 in c:\\programdata\\anaconda3\\lib\\site-packages (from matplotlib) (0.11.0)\n",
      "Requirement already satisfied: pillow>=6.2.0 in c:\\programdata\\anaconda3\\lib\\site-packages (from matplotlib) (9.2.0)\n",
      "Requirement already satisfied: packaging>=20.0 in c:\\programdata\\anaconda3\\lib\\site-packages (from matplotlib) (21.3)\n",
      "Requirement already satisfied: numpy>=1.17 in c:\\programdata\\anaconda3\\lib\\site-packages (from matplotlib) (1.21.5)\n",
      "Requirement already satisfied: fonttools>=4.22.0 in c:\\programdata\\anaconda3\\lib\\site-packages (from matplotlib) (4.25.0)\n",
      "Requirement already satisfied: six>=1.5 in c:\\programdata\\anaconda3\\lib\\site-packages (from python-dateutil>=2.7->matplotlib) (1.16.0)\n"
     ]
    }
   ],
   "source": [
    "!pip install matplotlib"
   ]
  },
  {
   "cell_type": "code",
   "execution_count": 41,
   "id": "ab4f6f20",
   "metadata": {},
   "outputs": [
    {
     "name": "stdout",
     "output_type": "stream",
     "text": [
      "-95.0\n"
     ]
    }
   ],
   "source": [
    "from numpy.polynomial import Polynomial\n",
    "#1.8x**2+5.5x+10\n",
    "discr3 = 4*5.5**2 - 12 * 1.8 * 10\n",
    "x_ex_1 = -2*5.5\n",
    "print(discr3)"
   ]
  },
  {
   "cell_type": "code",
   "execution_count": 12,
   "id": "18f21aa9",
   "metadata": {},
   "outputs": [
    {
     "name": "stderr",
     "output_type": "stream",
     "text": [
      "ERROR: Could not find a version that satisfies the requirement math (from versions: none)\n",
      "ERROR: No matching distribution found for math\n"
     ]
    }
   ],
   "source": [
    "!pip install math"
   ]
  },
  {
   "cell_type": "code",
   "execution_count": 1,
   "id": "f74f00c5",
   "metadata": {
    "scrolled": true
   },
   "outputs": [
    {
     "name": "stdout",
     "output_type": "stream",
     "text": [
      "[-6.32174537 -3.25046383  0.40554254]\n"
     ]
    }
   ],
   "source": [
    "import math\n",
    "from numpy.polynomial import Polynomial\n",
    "x = Polynomial([-5,10,5.5,0.6])\n",
    "print(x.roots())"
   ]
  },
  {
   "cell_type": "code",
   "execution_count": 46,
   "id": "4d15fe89",
   "metadata": {
    "scrolled": false
   },
   "outputs": [
    {
     "data": {
      "image/png": "[encoded data removed]",
      "text/plain": [
       "<Figure size 640x480 with 1 Axes>"
      ]
     },
     "metadata": {},
     "output_type": "display_data"
    }
   ],
   "source": [
    "import numpy as np\n",
    "import matplotlib.pyplot as plt\n",
    "x = np.linspace(-9, 4,40)\n",
    "y = 0.6*x**3+5.5*x**2 + 10*x - 5  \n",
    "\n",
    "fig, ax = plt.subplots()      \n",
    "ax.plot(x, y, color=\"red\", label=\"y'(x)\") \n",
    "ax.plot(np.linspace(-9,4,40), x*0, color = \"black\")\n",
    "ax.plot(y*0, 0.6*x**3+5.5*x**2 + 10*x - 5 , color = \"black\")\n",
    "ax.scatter(-6.32174537, 0)\n",
    "ax.scatter(-3.25046383, 0)\n",
    "ax.scatter(0.40554254, 0)\n",
    "ax.scatter(-5, 7.5)\n",
    "ax.scatter(-1.111, -10.144)\n",
    "ax.set_xlabel(\"x\")                              \n",
    "ax.set_ylabel(\"y\")                              \n",
    "ax.legend()   \n",
    "\n",
    "\n",
    "plt.show()\n",
    "\n",
    "#1. Определить корни. Корни уравнения: [-6.32174537 -3.25046383  0.40554254]\n",
    "#2. Найти интервалы, на которых функция возрастает. Функция возрастает на интервалах (-∞; -5) , (-1.111; +∞)\n",
    "#3 Найти интервалы, на которых функция убывает. Функция убывает на интервале (-5, -1.111)\n",
    "#4 Построить график\n",
    "#5 Вычислить вершину. Вершины: (-5, 7.5), (-1.111, -10.144)\n",
    "#6 Определить промежутки, на котором f > 0 . При х>0.40554254\n",
    "#7 Определить промежутки, на котором f < 0 При х<0.40554254\n"
   ]
  },
  {
   "cell_type": "code",
   "execution_count": null,
   "id": "4d3bb022",
   "metadata": {},
   "outputs": [],
   "source": []
  }
 ],
 "metadata": {
  "kernelspec": {
   "display_name": "Python 3 (ipykernel)",
   "language": "python",
   "name": "python3"
  },
  "language_info": {
   "codemirror_mode": {
    "name": "ipython",
    "version": 3
   },
   "file_extension": ".py",
   "mimetype": "text/x-python",
   "name": "python",
   "nbconvert_exporter": "python",
   "pygments_lexer": "ipython3",
   "version": "3.9.13"
  }
 },
 "nbformat": 4,
 "nbformat_minor": 5
}
